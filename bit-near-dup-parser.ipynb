{
  "nbformat": 4,
  "nbformat_minor": 0,
  "metadata": {
    "accelerator": "GPU",
    "colab": {
      "name": "bit-near-dup-parser.ipynb",
      "provenance": [],
      "collapsed_sections": [],
      "machine_shape": "hm",
      "include_colab_link": true
    },
    "kernelspec": {
      "display_name": "Python 3 (ipykernel)",
      "language": "python",
      "name": "python3"
    },
    "language_info": {
      "codemirror_mode": {
        "name": "ipython",
        "version": 3
      },
      "file_extension": ".py",
      "mimetype": "text/x-python",
      "name": "python",
      "nbconvert_exporter": "python",
      "pygments_lexer": "ipython3",
      "version": "3.8.2"
    }
  },
  "cells": [
    {
      "cell_type": "markdown",
      "metadata": {
        "id": "view-in-github",
        "colab_type": "text"
      },
      "source": [
        "<a href=\"https://colab.research.google.com/github/sayakpaul/near-dup-parser/blob/main/bit-near-dup-parser.ipynb\" target=\"_parent\"><img src=\"https://colab.research.google.com/assets/colab-badge.svg\" alt=\"Open In Colab\"/></a>"
      ]
    },
    {
      "cell_type": "markdown",
      "metadata": {
        "id": "EQHBYn-EoazE"
      },
      "source": [
        "## Introduction\n",
        "\n",
        "Fetching similar images in (near) real time is an important use-case in information retrieval systems. Some popular examples utilizing this include Pinterest, Google Image Search, etc. In this example, we will build a similar image parsing utility using [Locality Sensitive Hashing](https://towardsdatascience.com/understanding-locality-sensitive-hashing-49f6d1f6134) (LSH) and [Random Projection](https://en.wikipedia.org/wiki/Random_projection) on top of a pre-trained image classifier. We will also look into optimizing the performance of our parser given a commodity GPU-based environment. These kinds of parsers are also known as _near duplicate (or near-dup) image detectors_. \n",
        "\n",
        "There are other examples in [keras.io/examples/vision](https://keras.io/examples/vision) that are worth checking out in this regard:\n",
        "\n",
        "* [Metric learning for image similarity search](https://keras.io/examples/vision/metric_learning)\n",
        "* [Image similarity estimation using a Siamese Network with a triplet loss](https://keras.io/examples/vision/siamese_network)\n",
        "\n",
        "Finally, this example uses the following resource as a reference and as such reuses code from there: [Locality Sensitive Hashing for Similar Item Search](https://towardsdatascience.com/locality-sensitive-hashing-for-music-search-f2f1940ace23).\n",
        "\n",
        "_Note that in order to optimize the performance of our parser, you should be connected to a GPU._"
      ]
    },
    {
      "cell_type": "markdown",
      "metadata": {
        "id": "MJw785KYWHoN"
      },
      "source": [
        "## Imports"
      ]
    },
    {
      "cell_type": "code",
      "metadata": {
        "id": "TRP56VgMQSFB"
      },
      "source": [
        "import matplotlib.pyplot as plt\n",
        "import tensorflow as tf\n",
        "import numpy as np\n",
        "import time\n",
        "\n",
        "import tensorflow_datasets as tfds\n",
        "tfds.disable_progress_bar()"
      ],
      "execution_count": null,
      "outputs": []
    },
    {
      "cell_type": "markdown",
      "metadata": {
        "id": "qU088JT-WSSu"
      },
      "source": [
        "## Load dataset and create a training set of 1000 images\n",
        "\n",
        "To keep the runtime of the example short, we will be using a subset of 1000 images from the `tf_flowers` dataset (available through [TensorFlow Datasets](https://www.tensorflow.org/datasets/catalog/tf_flowers)) to build our vocabulary. "
      ]
    },
    {
      "cell_type": "code",
      "metadata": {
        "id": "CSM0BMf7n3SH"
      },
      "source": [
        "train_ds, validation_ds = tfds.load(\n",
        "    \"tf_flowers\",\n",
        "    split=[\"train[:85%]\", \"train[85%:]\"],\n",
        "    as_supervised=True\n",
        ")"
      ],
      "execution_count": null,
      "outputs": []
    },
    {
      "cell_type": "code",
      "metadata": {
        "id": "Bl1YIpD2oeAm"
      },
      "source": [
        "IMAGE_SIZE = 224\n",
        "NUM_IMAGES = 1000\n",
        "\n",
        "images = []\n",
        "labels = []\n",
        "\n",
        "for (image, label) in train_ds.take(NUM_IMAGES):\n",
        "    image = tf.image.resize(image, (IMAGE_SIZE, IMAGE_SIZE))\n",
        "    images.append(image.numpy())\n",
        "    labels.append(label.numpy())\n",
        "\n",
        "images = np.array(images)\n",
        "labels = np.array(labels)"
      ],
      "execution_count": null,
      "outputs": []
    },
    {
      "cell_type": "markdown",
      "metadata": {
        "id": "aJbKEO4dWLMn"
      },
      "source": [
        "## Pre-trained model"
      ]
    },
    {
      "cell_type": "markdown",
      "metadata": {
        "id": "d6TT0RUeX37k"
      },
      "source": [
        "In this section, we load our image classification model that was trained on the `tf_flowers` dataset. 85% of the total images were used to build the training set. For more details on the training, you check out [this notebook](https://github.com/sayakpaul/near-dup-parser/blob/main/bit-supervised-training.ipynb).\n",
        "\n",
        "The underlying model is a BiT-ResNet (proposed in [Big Transfer (BiT): General Visual Representation Learning](https://arxiv.org/abs/1912.11370)). BiT-ResNet family of models are known to have excellent transfer performance across a wide variety of different downstream tasks. "
      ]
    },
    {
      "cell_type": "code",
      "metadata": {
        "id": "DAQn0B67QDBr"
      },
      "source": [
        "!gdown --id 19VxuBZyn9BUedwRCZRsXQ0-1HFbF7x3u\n",
        "!tar xf flower_model_bit_0.96875.gz"
      ],
      "execution_count": null,
      "outputs": []
    },
    {
      "cell_type": "code",
      "metadata": {
        "id": "KRQkw64Zlf-_"
      },
      "source": [
        "bit_model = tf.keras.models.load_model(\"flower_model_bit_0.96875\")\n",
        "bit_model.count_params()"
      ],
      "execution_count": null,
      "outputs": []
    },
    {
      "cell_type": "markdown",
      "metadata": {
        "id": "CyOT2geZWNSl"
      },
      "source": [
        "## Create an embedding model\n",
        "\n",
        "To parse the similar images given a query image, we need to first generate vector representations of the images. For this purpose, we will be branching the above image classifier such that it becomes apt for our purpose. "
      ]
    },
    {
      "cell_type": "code",
      "metadata": {
        "id": "K_W6Orn-nSEj"
      },
      "source": [
        "embedding_model = tf.keras.Sequential(\n",
        "    [\n",
        "        tf.keras.layers.InputLayer((IMAGE_SIZE, IMAGE_SIZE, 3)),\n",
        "        tf.keras.layers.experimental.preprocessing.Rescaling(scale=1.0 / 255),\n",
        "        bit_model.layers[1],\n",
        "        tf.keras.layers.Lambda(tf.math.l2_normalize),\n",
        "    ],\n",
        "    name=\"embedding_model\",\n",
        ")\n",
        "\n",
        "embedding_model.summary()"
      ],
      "execution_count": null,
      "outputs": []
    },
    {
      "cell_type": "markdown",
      "metadata": {
        "id": "x9feoZMuuSsV"
      },
      "source": [
        "Take note of the normalization layer inside the model. It is used to project the representation vectors to the space of unit-spheres."
      ]
    },
    {
      "cell_type": "markdown",
      "metadata": {
        "id": "suXPrv5JWWPb"
      },
      "source": [
        "## Hashing utilities"
      ]
    },
    {
      "cell_type": "code",
      "metadata": {
        "id": "U2PQMzwNp6VR"
      },
      "source": [
        "def hash_func(embedding, random_vectors):\n",
        "    if not isinstance(embedding, np.ndarray):\n",
        "        embedding = embedding.numpy()\n",
        "\n",
        "    # Random projection.\n",
        "    bools = np.dot(embedding, random_vectors) > 0\n",
        "    return [bool2int(bool_vec) for bool_vec in bools]\n",
        "\n",
        "\n",
        "def bool2int(x):\n",
        "    y = 0\n",
        "    for i, j in enumerate(x):\n",
        "        if j:\n",
        "            y += 1 << i\n",
        "    return y"
      ],
      "execution_count": null,
      "outputs": []
    },
    {
      "cell_type": "markdown",
      "metadata": {
        "id": "-PiYsJrduSsW"
      },
      "source": [
        "The dimensionality coming out of `embedding_model` is (2048, ) and considering practical aspects (storage, retrieval performance, etc.) it is quite large. So, there arises a need to reduce this dimensionality without reducing the information content. This is where Random Projections come into the picture. It is based on the principle that if the distance between a group of points on a given plane is _approximately_ preserved the dimensionality of that plane can further be reduced. \n",
        "\n",
        "Inside `hash_func()`, we first reduce the dimensionality of the embedding vectors. Then we compute the bitwise hash values of the images to determine their hash buckets. Images having same hash values are likely to go into the same hash bucket. From a deployment perspective, bitwise hash values are cheaper to store and operate on."
      ]
    },
    {
      "cell_type": "markdown",
      "metadata": {
        "id": "0pWUFuQTWbgx"
      },
      "source": [
        "## LSH builders\n",
        "\n",
        "The `Table` class is responsible for building a single hash table. Each entry in the hash table is a mapping between the reduced embedding of an image from our dataset and a unique identifier. Because our dimensionality reduction technique involves randomness, it can so happen that similar images are not mapped to the same hash bucket everytime the process run. So, to reduce this effect, we will take results from multiple tables into consideration. So, the number of tables and the reduction dimensionality are the key hyperparameters here. "
      ]
    },
    {
      "cell_type": "code",
      "metadata": {
        "id": "S0dZ0KbtvG7S"
      },
      "source": [
        "class Table:\n",
        "    def __init__(self, hash_size, dim):\n",
        "        self.table = dict()\n",
        "        self.hash_size = hash_size\n",
        "        self.random_vectors = np.random.randn(hash_size, dim).T\n",
        "\n",
        "    def add(self, id, vecs, label):\n",
        "        # Create a unique indentifier.\n",
        "        entry = {\"id_label\": str(id) + \"_\" + str(label)}\n",
        "\n",
        "        # Compute the hash values.\n",
        "        hashes = hash_func(vecs, self.random_vectors)\n",
        "\n",
        "        # Add the hash values to the current table.\n",
        "        for h in hashes:\n",
        "            if h in self.table:\n",
        "                self.table[h].append(entry)\n",
        "            else:\n",
        "                self.table[h] = [entry]\n",
        "\n",
        "    def query(self, vecs):\n",
        "        # Compute hash value for the query vector.\n",
        "        hashes = hash_func(vecs, self.random_vectors)\n",
        "        results = list()\n",
        "\n",
        "        # Loop over the query hashes and determine if they exist in\n",
        "        # the current table.\n",
        "        for h in hashes:\n",
        "            if h in self.table:\n",
        "                results.extend(self.table[h])\n",
        "        return results"
      ],
      "execution_count": null,
      "outputs": []
    },
    {
      "cell_type": "markdown",
      "metadata": {
        "id": "-3d3Izgk0pVZ"
      },
      "source": [
        "In the following `LSH` class we will pack the utilities to have multiple hash tables. "
      ]
    },
    {
      "cell_type": "code",
      "metadata": {
        "id": "Fx-ybSb4wt-K"
      },
      "source": [
        "class LSH:\n",
        "    def __init__(self, hash_size, dim, num_tables):\n",
        "        self.num_tables = num_tables\n",
        "        self.tables = list()\n",
        "        for i in range(self.num_tables):\n",
        "            self.tables.append(Table(hash_size, dim))\n",
        "\n",
        "    def add(self, id, vecs, label):\n",
        "        for table in self.tables:\n",
        "            table.add(id, vecs, label)\n",
        "\n",
        "    def query(self, vecs):\n",
        "        results = list()\n",
        "        for table in self.tables:\n",
        "            results.extend(table.query(vecs))\n",
        "        return results"
      ],
      "execution_count": null,
      "outputs": []
    },
    {
      "cell_type": "markdown",
      "metadata": {
        "id": "5l87zK6xuSsX"
      },
      "source": [
        "Now we can encapsulate the logic for building and operating with the master LSH table (a collection of many tables) inside a class. It has two methods:\n",
        "\n",
        "* `train()`: Responsible for building the final LSH table. \n",
        "* `query()`: Calculates the number of matches given a query image and also quantifies the similarity score."
      ]
    },
    {
      "cell_type": "code",
      "metadata": {
        "id": "AIrr40ClxkcR"
      },
      "source": [
        "class BuildLSHTable:\n",
        "    def __init__(\n",
        "        self, prediction_model, concrete_function=False, hash_size=8, dim=2048, num_tables=10\n",
        "    ):\n",
        "        self.hash_size = hash_size\n",
        "        self.dim = dim\n",
        "        self.num_tables = num_tables\n",
        "        self.lsh = LSH(self.hash_size, self.dim, self.num_tables)\n",
        "\n",
        "        self.prediction_model = prediction_model\n",
        "        self.concrete_function = concrete_function\n",
        "\n",
        "    def train(self, training_files):\n",
        "        for id, training_file in enumerate(training_files):\n",
        "            # Unpack the data.\n",
        "            image, label = training_file\n",
        "            if len(image.shape) < 4:\n",
        "                image = image[None, ...]\n",
        "\n",
        "            # Compute embeddings and update the LSH tables.\n",
        "            # More on `self.concrete_function()` later.\n",
        "            if self.concrete_function:\n",
        "                features = self.prediction_model(tf.constant(image))[\"lambda\"].numpy()\n",
        "            else:\n",
        "                features = self.prediction_model.predict(image)\n",
        "            self.lsh.add(id, features, label)\n",
        "\n",
        "    def query(self, image, verbose=True):\n",
        "        # Compute the embeddings of the query image and fetch the results.\n",
        "        if len(image.shape) < 4:\n",
        "            image = image[None, ...]\n",
        "\n",
        "        if self.concrete_function:\n",
        "            features = self.prediction_model(tf.constant(image))[\"lambda\"].numpy()\n",
        "        else:\n",
        "            features = self.prediction_model.predict(image)\n",
        "\n",
        "        results = self.lsh.query(features)\n",
        "        if verbose:\n",
        "            print(\"Matches:\", len(results))\n",
        "\n",
        "        # Calculate Jaccard index to quantify the similarity.\n",
        "        counts = dict()\n",
        "        for r in results:\n",
        "            if r[\"id_label\"] in counts:\n",
        "                counts[r[\"id_label\"]] += 1\n",
        "            else:\n",
        "                counts[r[\"id_label\"]] = 1\n",
        "        for k in counts:\n",
        "            counts[k] = float(counts[k]) / self.dim\n",
        "        return counts"
      ],
      "execution_count": null,
      "outputs": []
    },
    {
      "cell_type": "markdown",
      "metadata": {
        "id": "wuDSeJHfWd3o"
      },
      "source": [
        "## Create LSH tables\n",
        "\n",
        "With our helper utilities and classes implemented, we can now build our LSH table. Since we will be benchmarking performance between optimized and unoptimized embedding models we will also warm up our GPU to avoid any unfair comparison. "
      ]
    },
    {
      "cell_type": "code",
      "metadata": {
        "id": "4VRZxKxduSsY"
      },
      "source": [
        "def warmup():\n",
        "    dummy_sample = tf.ones((1, IMAGE_SIZE, IMAGE_SIZE, 3))\n",
        "    for _ in range(100):\n",
        "        _ = embedding_model.predict(dummy_sample)"
      ],
      "execution_count": null,
      "outputs": []
    },
    {
      "cell_type": "code",
      "metadata": {
        "id": "yRPFx5BE_zlB"
      },
      "source": [
        "warmup()\n",
        "\n",
        "training_files = zip(images, labels)\n",
        "lsh_builder = BuildLSHTable(embedding_model)\n",
        "%time lsh_builder.train(training_files)"
      ],
      "execution_count": null,
      "outputs": []
    },
    {
      "cell_type": "markdown",
      "metadata": {
        "id": "mSuFasvTuuo_"
      },
      "source": [
        "At the time of writing the wall time was 54.1 seconds on a Tesla T4 GPU. This timing may vary based on the GPU you are using."
      ]
    },
    {
      "cell_type": "markdown",
      "metadata": {
        "id": "E2DjjAq4BW6m"
      },
      "source": [
        "## Optimizing the model with TensorRT\n",
        "\n",
        "For NVIDIA-based GPUs, the [TensorRT framework](https://docs.nvidia.com/deeplearning/frameworks/tf-trt-user-guide/index.html) can be used to dramatically enhance the inference latency by using various model optimization techniques like pruning, constant folding, layer fusion, and so on. Here we will use the [`tf.experimental.tensorrt`](https://www.tensorflow.org/api_docs/python/tf/experimental/tensorrt) module to optimize our embedding model."
      ]
    },
    {
      "cell_type": "code",
      "metadata": {
        "id": "NkG32ABBBZBC"
      },
      "source": [
        "# First serialize the embedding model as a SavedModel.\n",
        "embedding_model.save(\"embedding_model\")\n",
        "\n",
        "# Initialize the conversion parameters.\n",
        "params = tf.experimental.tensorrt.ConversionParams(\n",
        "    precision_mode=\"FP16\", maximum_cached_engines=16\n",
        ")\n",
        "\n",
        "# Run the conversion.\n",
        "converter = tf.experimental.tensorrt.Converter(\n",
        "    input_saved_model_dir=\"embedding_model\", conversion_params=params\n",
        ")\n",
        "converter.convert()\n",
        "converter.save(\"tensorrt_embedding_model\")"
      ],
      "execution_count": null,
      "outputs": []
    },
    {
      "cell_type": "markdown",
      "metadata": {
        "id": "GIP4fqZuuSsZ"
      },
      "source": [
        "**Notes on the parameters inside of `tf.experimental.tensorrt.ConversionParams()`**:\n",
        "\n",
        "* `precision_mode` defines the numerical precision of the operations in the to-be-converted model.\n",
        "* `maximum_cached_engines` specifies the maximum number of TRT engines that will be cached to handle dynamic operations (operations with unknown shapes). \n",
        "\n",
        "To know more about the other options, check out the [official documentation](https://www.tensorflow.org/api_docs/python/tf/experimental/tensorrt/ConversionParams). You can also explore the different quantization options provided by the `tf.experimental.tensorrt` module catering to different purposes. "
      ]
    },
    {
      "cell_type": "code",
      "metadata": {
        "id": "07ZZFzKtFgtl"
      },
      "source": [
        "# Load the converted model.\n",
        "root = tf.saved_model.load(\"tensorrt_embedding_model\") \n",
        "trt_model_function = root.signatures[\"serving_default\"]"
      ],
      "execution_count": null,
      "outputs": []
    },
    {
      "cell_type": "markdown",
      "metadata": {
        "id": "vzORtkFuuSsZ"
      },
      "source": [
        "## Build LSH tables with optimized model"
      ]
    },
    {
      "cell_type": "code",
      "metadata": {
        "id": "BlF0N5VVPcPR"
      },
      "source": [
        "warmup()\n",
        "\n",
        "training_files = zip(images, labels)\n",
        "lsh_builder_trt = BuildLSHTable(trt_model_function, concrete_function=True)\n",
        "%time lsh_builder_trt.train(training_files)"
      ],
      "execution_count": null,
      "outputs": []
    },
    {
      "cell_type": "markdown",
      "metadata": {
        "id": "0OBBgePp1vq9"
      },
      "source": [
        "Notice the difference in the wall time which is **13.1 seconds**. Earlier, with the unoptimized model it was **54.1 seconds**. \n",
        "\n",
        "We can take a closer look into one of the hash tables and get an idea of how they are represented. "
      ]
    },
    {
      "cell_type": "code",
      "metadata": {
        "id": "eJLFd0n_zAyp"
      },
      "source": [
        "idx = 0\n",
        "for hash, entry in lsh_builder_trt.lsh.tables[0].table.items():\n",
        "    if idx == 5:\n",
        "        break\n",
        "    if len(entry) < 5:\n",
        "        print(hash, entry)\n",
        "        idx += 1"
      ],
      "execution_count": null,
      "outputs": []
    },
    {
      "cell_type": "markdown",
      "metadata": {
        "id": "AMta7e_WWi2P"
      },
      "source": [
        "## Visualization with validation images\n",
        "\n",
        "In this section we will first writing a couple of utility functions to visualize the similar image parsing process. Then we will benchmark the query performance of the models with and without optimization. "
      ]
    },
    {
      "cell_type": "code",
      "metadata": {
        "id": "n9Cs2nEUC_-B"
      },
      "source": [
        "validation_images = []\n",
        "validation_labels = []\n",
        "\n",
        "for image, label in validation_ds.take(100):\n",
        "    image = tf.image.resize(image, (224, 224))\n",
        "    validation_images.append(image.numpy())\n",
        "    validation_labels.append(label.numpy())\n",
        "\n",
        "validation_images = np.array(validation_images)\n",
        "validation_labels = np.array(validation_labels)\n",
        "validation_images.shape, validation_labels.shape"
      ],
      "execution_count": null,
      "outputs": []
    },
    {
      "cell_type": "code",
      "metadata": {
        "id": "Icc7is5BRNGI"
      },
      "source": [
        "def plot_images(images, labels):\n",
        "    plt.figure(figsize=(20, 10))\n",
        "    columns = 5\n",
        "    for (i, image) in enumerate(images):\n",
        "        ax = plt.subplot(len(images) / columns + 1, columns, i + 1)\n",
        "        if i == 0:\n",
        "            ax.set_title(\"Query Image\\n\" + \"Label: {}\".format(labels[i]))\n",
        "        else:\n",
        "            ax.set_title(\"Similar Image # \" + str(i) +\n",
        "                         \"\\nLabel: {}\".format(labels[i]))\n",
        "        plt.imshow(image.astype(\"int\"))\n",
        "        plt.axis(\"off\")"
      ],
      "execution_count": null,
      "outputs": []
    },
    {
      "cell_type": "code",
      "metadata": {
        "id": "bSQ8Pt6xTK1i"
      },
      "source": [
        "def visualize_lsh(lsh_class):\n",
        "    idx = np.random.choice(len(validation_images))\n",
        "    image = validation_images[idx]\n",
        "    label = validation_labels[idx]\n",
        "    results = lsh_class.query(image)\n",
        "\n",
        "    candidates = []\n",
        "    labels = []\n",
        "    overlaps = []\n",
        "\n",
        "    for idx, r in enumerate(sorted(results, key=results.get, reverse=True)):\n",
        "        if idx == 4:\n",
        "            break\n",
        "        image_id, label = r.split(\"_\")[0], r.split(\"_\")[1]\n",
        "        candidates.append(images[int(image_id)])\n",
        "        labels.append(label)\n",
        "        overlaps.append(results[r])\n",
        "\n",
        "    candidates.insert(0, image)\n",
        "    labels.insert(0, label)\n",
        "\n",
        "    plot_images(candidates, labels)"
      ],
      "execution_count": null,
      "outputs": []
    },
    {
      "cell_type": "markdown",
      "metadata": {
        "id": "lv5N3C53TgVJ"
      },
      "source": [
        "### Non-TRT model"
      ]
    },
    {
      "cell_type": "code",
      "metadata": {
        "id": "IOHFtpjqWBhC"
      },
      "source": [
        "for _ in range(5):\n",
        "    visualize_lsh(lsh_builder)"
      ],
      "execution_count": null,
      "outputs": []
    },
    {
      "cell_type": "code",
      "metadata": {
        "id": "f022N4GMWB_P"
      },
      "source": [
        "visualize_lsh(lsh_builder)"
      ],
      "execution_count": null,
      "outputs": []
    },
    {
      "cell_type": "markdown",
      "metadata": {
        "id": "IZJ6sq4oTidj"
      },
      "source": [
        "### TRT model"
      ]
    },
    {
      "cell_type": "code",
      "metadata": {
        "id": "18o46qylQph7"
      },
      "source": [
        "for _ in range(5):\n",
        "    visualize_lsh(lsh_builder_trt)"
      ],
      "execution_count": null,
      "outputs": []
    },
    {
      "cell_type": "markdown",
      "metadata": {
        "id": "j4ucNAp95Ubj"
      },
      "source": [
        "As you may have spotted there are a couple of incorrect results. This can be mitigated in a couple of ways:\n",
        "\n",
        "* Better model for generating the initial embeddings especially for noisy samples. We can use techniques like [ArcFace](https://arxiv.org/abs/1801.07698), [Supervised Contrastive Learning](https://arxiv.org/abs/2004.11362), etc. that implicitly encourage better learning of representations for retrieval purposes. \n",
        "* Trade-off between the number of tables and the reduction dimensionality is very crucial and it helps set the right recall required for your application."
      ]
    },
    {
      "cell_type": "markdown",
      "metadata": {
        "id": "kh5k50dYSwQz"
      },
      "source": [
        "## Benchmarking query performance"
      ]
    },
    {
      "cell_type": "code",
      "metadata": {
        "id": "ayPblpIeSyjQ"
      },
      "source": [
        "def benchmark(lsh_class):\n",
        "    start_time = time.time()\n",
        "    for _ in range(1000):\n",
        "        image = np.ones((1, 224, 224, 3)).astype(\"float32\")\n",
        "        _ = lsh_class.query(image, verbose=False)\n",
        "    end_time = time.time() - start_time\n",
        "    print(f\"Time taken: {end_time:.3f}\")"
      ],
      "execution_count": null,
      "outputs": []
    },
    {
      "cell_type": "code",
      "metadata": {
        "id": "DByzXQZGT6LM"
      },
      "source": [
        "benchmark(lsh_builder)"
      ],
      "execution_count": null,
      "outputs": []
    },
    {
      "cell_type": "code",
      "metadata": {
        "id": "b1u-AcDCT-4w"
      },
      "source": [
        "benchmark(lsh_builder_trt)"
      ],
      "execution_count": null,
      "outputs": []
    },
    {
      "cell_type": "markdown",
      "metadata": {
        "id": "ev_VR5cv7HOr"
      },
      "source": [
        "We can immediately notice a stark difference in betwee the query performance of the two models. "
      ]
    },
    {
      "cell_type": "markdown",
      "metadata": {
        "id": "nf8huj9S7OA_"
      },
      "source": [
        "## Final remarks\n",
        "\n",
        "In this example, we explored the TensorRT framework from NVIDIA for optimizing our model. It's best suited for GPU-based inference servers. There are other choices for such frameworks that cater to different hardware platforms:\n",
        "\n",
        "* [TensorFlow Lite](https://www.tensorflow.org/lite) for mobile and edge devices.\n",
        "* [ONNX](hhttps://onnx.ai/) for commodity CPU-based servers. \n",
        "* [Apache TVM](https://tvm.apache.org/), compiler for machine learning models covering various platforms.\n",
        "\n",
        "FInally, here are a few resources you might want to check out in case you want to know more about vector similary search in general:\n",
        "\n",
        "* [ANN Benchmarks](http://ann-benchmarks.com/)\n",
        "* [Accelerating Large-Scale Inference with Anisotropic Vector Quantization (ScaNN)](https://arxiv.org/abs/1908.10396)\n",
        "* [Spreading vectors for similarity search](https://arxiv.org/abs/1806.03198)\n",
        "* [Building a real-time embeddings similarity matching system](https://cloud.google.com/architecture/building-real-time-embeddings-similarity-matching-system)"
      ]
    }
  ]
}